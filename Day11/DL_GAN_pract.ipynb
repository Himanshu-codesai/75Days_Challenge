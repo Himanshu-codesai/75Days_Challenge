{
 "cells": [
  {
   "cell_type": "code",
   "execution_count": 1,
   "id": "394d6da9",
   "metadata": {},
   "outputs": [],
   "source": [
    "from keras.datasets.cifar10 import load_data\n",
    "import matplotlib.pyplot as plt"
   ]
  },
  {
   "cell_type": "code",
   "execution_count": null,
   "id": "fa2d01a1",
   "metadata": {},
   "outputs": [],
   "source": [
    "# a=load_data()"
   ]
  },
  {
   "cell_type": "code",
   "execution_count": null,
   "id": "ec753334",
   "metadata": {},
   "outputs": [],
   "source": [
    "# len(a)"
   ]
  },
  {
   "cell_type": "code",
   "execution_count": 2,
   "id": "4d3646d5",
   "metadata": {},
   "outputs": [],
   "source": [
    "(trainX,trainY),(testX,testY)=load_data()"
   ]
  },
  {
   "cell_type": "code",
   "execution_count": 3,
   "id": "e2f4a347",
   "metadata": {},
   "outputs": [
    {
     "data": {
      "text/plain": [
       "(50000, 32, 32, 3)"
      ]
     },
     "execution_count": 3,
     "metadata": {},
     "output_type": "execute_result"
    }
   ],
   "source": [
    "# trainX \n",
    "trainX.shape"
   ]
  },
  {
   "cell_type": "code",
   "execution_count": 4,
   "id": "209ea6c1",
   "metadata": {},
   "outputs": [
    {
     "data": {
      "text/plain": [
       "(50000, 1)"
      ]
     },
     "execution_count": 4,
     "metadata": {},
     "output_type": "execute_result"
    }
   ],
   "source": [
    "trainY.shape"
   ]
  },
  {
   "cell_type": "code",
   "execution_count": 5,
   "id": "6347077b",
   "metadata": {},
   "outputs": [
    {
     "data": {
      "text/plain": [
       "<matplotlib.image.AxesImage at 0x203ffd11550>"
      ]
     },
     "execution_count": 5,
     "metadata": {},
     "output_type": "execute_result"
    },
    {
     "data": {
      "image/png": "[encoded data removed]",
      "text/plain": [
       "<Figure size 432x288 with 1 Axes>"
      ]
     },
     "metadata": {
      "needs_background": "light"
     },
     "output_type": "display_data"
    }
   ],
   "source": [
    "# plt.imshow(trainX[i])\n",
    "plt.imshow(trainX[9])"
   ]
  },
  {
   "cell_type": "code",
   "execution_count": null,
   "id": "dbe7aad0",
   "metadata": {},
   "outputs": [],
   "source": [
    "# plt.imshow(trainY[8])\n",
    "# print(trainY[9])"
   ]
  },
  {
   "cell_type": "code",
   "execution_count": null,
   "id": "6eba90aa",
   "metadata": {},
   "outputs": [],
   "source": [
    "for i in range(49):\n",
    "    plt.subplot(7,7,1+i)\n",
    "    plt.axis('off')\n",
    "    plt.imshow(trainX[i])\n",
    "    "
   ]
  },
  {
   "cell_type": "code",
   "execution_count": null,
   "id": "7e19f06b",
   "metadata": {},
   "outputs": [],
   "source": [
    "# trainY.values_counts()"
   ]
  },
  {
   "cell_type": "code",
   "execution_count": 6,
   "id": "bfbc5223",
   "metadata": {},
   "outputs": [],
   "source": [
    "from keras.models import Sequential\n",
    "from keras.optimizers import Adam\n",
    "from keras.layers import Dense\n",
    "from keras.layers import Conv2D\n",
    "from keras.layers import Flatten\n",
    "from keras.layers import Dropout\n",
    "from keras.layers import LeakyReLU\n",
    "from keras.utils.vis_utils import plot_model\n",
    "import numpy as np\n"
   ]
  },
  {
   "cell_type": "code",
   "execution_count": 7,
   "id": "be3dc85c",
   "metadata": {},
   "outputs": [],
   "source": [
    "def define_discriminator(in_shape=(32,32,3)):\n",
    "    model=Sequential()\n",
    "    \n",
    "    model.add(Conv2D(64,(3,3),padding='same',input_shape=in_shape))\n",
    "    model.add(LeakyReLU(alpha=0.2))\n",
    "    \n",
    "    model.add(Conv2D(128,(3,3),strides=(2,2),padding='same'))\n",
    "    model.add(LeakyReLU(alpha=0.2))\n",
    "\n",
    "    model.add(Conv2D(128,(3,3),strides=(2,2),padding='same'))\n",
    "    model.add(LeakyReLU(alpha=0.2))\n",
    "\n",
    "    model.add(Conv2D(256,(3,3),strides=(2,2),padding='same'))\n",
    "    model.add(LeakyReLU(alpha=0.2))\n",
    "    \n",
    "    model.add(Flatten())\n",
    "    model.add(Dropout(0.4))\n",
    "    model.add(Dense(1,activation='sigmoid'))\n",
    "    \n",
    "    opt=Adam(lr=0.002,beta_1=0.5)\n",
    "    model.compile(loss='binary_crossentropy',optimizer=opt,metrics=['accuracy'])\n",
    "    \n",
    "    return model"
   ]
  },
  {
   "cell_type": "code",
   "execution_count": 8,
   "id": "e290e097",
   "metadata": {},
   "outputs": [
    {
     "name": "stdout",
     "output_type": "stream",
     "text": [
      "Model: \"sequential\"\n",
      "_________________________________________________________________\n",
      " Layer (type)                Output Shape              Param #   \n",
      "=================================================================\n",
      " conv2d (Conv2D)             (None, 32, 32, 64)        1792      \n",
      "                                                                 \n",
      " leaky_re_lu (LeakyReLU)     (None, 32, 32, 64)        0         \n",
      "                                                                 \n",
      " conv2d_1 (Conv2D)           (None, 16, 16, 128)       73856     \n",
      "                                                                 \n",
      " leaky_re_lu_1 (LeakyReLU)   (None, 16, 16, 128)       0         \n",
      "                                                                 \n",
      " conv2d_2 (Conv2D)           (None, 8, 8, 128)         147584    \n",
      "                                                                 \n",
      " leaky_re_lu_2 (LeakyReLU)   (None, 8, 8, 128)         0         \n",
      "                                                                 \n",
      " conv2d_3 (Conv2D)           (None, 4, 4, 256)         295168    \n",
      "                                                                 \n",
      " leaky_re_lu_3 (LeakyReLU)   (None, 4, 4, 256)         0         \n",
      "                                                                 \n",
      " flatten (Flatten)           (None, 4096)              0         \n",
      "                                                                 \n",
      " dropout (Dropout)           (None, 4096)              0         \n",
      "                                                                 \n",
      " dense (Dense)               (None, 1)                 4097      \n",
      "                                                                 \n",
      "=================================================================\n",
      "Total params: 522,497\n",
      "Trainable params: 522,497\n",
      "Non-trainable params: 0\n",
      "_________________________________________________________________\n",
      "You must install pydot (`pip install pydot`) and install graphviz (see instructions at https://graphviz.gitlab.io/download/) for plot_model to work.\n"
     ]
    },
    {
     "name": "stderr",
     "output_type": "stream",
     "text": [
      "C:\\Users\\mrhim\\anaconda3\\lib\\site-packages\\keras\\optimizers\\optimizer_v2\\adam.py:114: UserWarning: The `lr` argument is deprecated, use `learning_rate` instead.\n",
      "  super().__init__(name, **kwargs)\n"
     ]
    }
   ],
   "source": [
    "model = define_discriminator()\n",
    "model.summary()\n",
    "plot_model(model,to_file='discriminator_plot.png',show_shapes=True,show_layer_names=True)"
   ]
  },
  {
   "cell_type": "code",
   "execution_count": null,
   "id": "e97feee4",
   "metadata": {},
   "outputs": [],
   "source": [
    "# pip install graphviz"
   ]
  },
  {
   "cell_type": "code",
   "execution_count": 9,
   "id": "adc12062",
   "metadata": {},
   "outputs": [],
   "source": [
    "def load_real_sample():\n",
    "    \n",
    "    (trainX,_),(_,_)=load_data()\n",
    "    X=trainX.astype('float32')\n",
    "    X=(X-127.5)/127.5\n",
    "    \n",
    "    return X\n"
   ]
  },
  {
   "cell_type": "code",
   "execution_count": null,
   "id": "2e1f3f41",
   "metadata": {},
   "outputs": [],
   "source": [
    "X= load_real_sample()"
   ]
  },
  {
   "cell_type": "code",
   "execution_count": null,
   "id": "d01165b8",
   "metadata": {},
   "outputs": [],
   "source": [
    "X.shape"
   ]
  },
  {
   "cell_type": "code",
   "execution_count": null,
   "id": "b8b71aeb",
   "metadata": {},
   "outputs": [],
   "source": [
    "# X[0]"
   ]
  },
  {
   "cell_type": "code",
   "execution_count": 13,
   "id": "cdfba4cd",
   "metadata": {},
   "outputs": [],
   "source": [
    "def generate_real_sample(dataset,n_samples):\n",
    "    \n",
    "    ix= np.random.randint(0,dataset.shape[0],n_samples)\n",
    "#     print(ix)\n",
    "    X=dataset[ix]\n",
    "    y=np.ones((n_samples,1))\n",
    "    return X,y"
   ]
  },
  {
   "cell_type": "code",
   "execution_count": 14,
   "id": "a33ea250",
   "metadata": {},
   "outputs": [],
   "source": [
    "# X.shape[0]"
   ]
  },
  {
   "cell_type": "code",
   "execution_count": 15,
   "id": "edeaee88",
   "metadata": {},
   "outputs": [],
   "source": [
    "# np.random.randint(0,50000,2)"
   ]
  },
  {
   "cell_type": "code",
   "execution_count": 17,
   "id": "4b86eb75",
   "metadata": {},
   "outputs": [],
   "source": [
    "# X,y=generate_real_sample(X,64)\n",
    "# print(X.shape)\n",
    "# print(y.shape)\n",
    "# X\n",
    "# print(y)"
   ]
  },
  {
   "cell_type": "code",
   "execution_count": 18,
   "id": "1c49a46c",
   "metadata": {},
   "outputs": [],
   "source": [
    "def generate_fake_samples(n_samples):\n",
    "    X=np.random.rand(32*32*3*n_samples)\n",
    "    X= -1+X*2\n",
    "    X=X.reshape((n_samples,32,32,3))\n",
    "    y=np.zeros((n_samples,1))\n",
    "    return X,y"
   ]
  },
  {
   "cell_type": "code",
   "execution_count": null,
   "id": "b4f917eb",
   "metadata": {},
   "outputs": [],
   "source": [
    "# np.random.rand(3, 3)"
   ]
  },
  {
   "cell_type": "code",
   "execution_count": null,
   "id": "97fc1c76",
   "metadata": {},
   "outputs": [],
   "source": [
    "# 32*32*3*64"
   ]
  },
  {
   "cell_type": "code",
   "execution_count": null,
   "id": "897f0e24",
   "metadata": {},
   "outputs": [],
   "source": [
    "# y=np.zeros((5,2))\n",
    "# y"
   ]
  },
  {
   "cell_type": "code",
   "execution_count": null,
   "id": "e6cfa127",
   "metadata": {},
   "outputs": [],
   "source": [
    "X,y=generate_fake_samples(64)\n",
    "print(X.shape)\n",
    "print(y.shape)\n",
    "plt.imshow(X[2])\n",
    "# X"
   ]
  },
  {
   "cell_type": "code",
   "execution_count": 19,
   "id": "80095840",
   "metadata": {},
   "outputs": [],
   "source": [
    "def train_discriminator(model,dataset,n_iter=20,n_batch=128):\n",
    "    half_batch=int(n_batch/2)\n",
    "    \n",
    "    for i in range(n_iter):\n",
    "        X_real,y_real=generate_real_sample(dataset,half_batch)\n",
    "        _,real_acc=model.train_on_batch(X_real,y_real)\n",
    "        \n",
    "        X_fake,y_fake=generate_fake_samples(half_batch)\n",
    "        _,fake_acc=model.train_on_batch(X_fake,y_fake)\n",
    "        \n",
    "        print(i+1,'Real -',real_acc*100,'Fake - ',fake_acc*100)\n",
    "    \n"
   ]
  },
  {
   "cell_type": "code",
   "execution_count": 20,
   "id": "3f8f26cd",
   "metadata": {},
   "outputs": [
    {
     "name": "stdout",
     "output_type": "stream",
     "text": [
      "1 Real - 84.375 Fake -  0.0\n",
      "2 Real - 25.0 Fake -  0.0\n",
      "3 Real - 93.75 Fake -  50.0\n",
      "4 Real - 90.625 Fake -  87.5\n",
      "5 Real - 96.875 Fake -  98.4375\n",
      "6 Real - 98.4375 Fake -  100.0\n",
      "7 Real - 100.0 Fake -  100.0\n",
      "8 Real - 96.875 Fake -  100.0\n",
      "9 Real - 100.0 Fake -  100.0\n",
      "10 Real - 100.0 Fake -  100.0\n",
      "11 Real - 100.0 Fake -  100.0\n",
      "12 Real - 100.0 Fake -  100.0\n",
      "13 Real - 100.0 Fake -  100.0\n",
      "14 Real - 100.0 Fake -  100.0\n",
      "15 Real - 100.0 Fake -  100.0\n",
      "16 Real - 100.0 Fake -  100.0\n",
      "17 Real - 100.0 Fake -  100.0\n",
      "18 Real - 100.0 Fake -  100.0\n",
      "19 Real - 100.0 Fake -  100.0\n",
      "20 Real - 100.0 Fake -  100.0\n"
     ]
    }
   ],
   "source": [
    "model = define_discriminator()\n",
    "dataset=load_real_sample()\n",
    "train_discriminator(model,dataset)\n"
   ]
  },
  {
   "cell_type": "code",
   "execution_count": 21,
   "id": "1bcfc353",
   "metadata": {},
   "outputs": [],
   "source": [
    "from keras.models import Sequential\n",
    "from keras.layers import Dense\n",
    "from keras.layers import Reshape\n",
    "from keras.layers import Conv2D\n",
    "from keras.layers import Conv2DTranspose\n",
    "from keras.layers import LeakyReLU\n",
    "from keras.utils.vis_utils import plot_model"
   ]
  },
  {
   "cell_type": "code",
   "execution_count": 22,
   "id": "f2723d93",
   "metadata": {},
   "outputs": [],
   "source": [
    "def define_generator(latent_dim):\n",
    "    model=Sequential()\n",
    "    \n",
    "    # 4X4 Image\n",
    "    n_nodes=256*4*4\n",
    "    model.add(Dense(n_nodes,input_dim=latent_dim))\n",
    "    model.add(LeakyReLU(alpha=0.2))\n",
    "    model.add(Reshape((4, 4, 256)))\n",
    "    # 8X8 \n",
    "    model.add(Conv2DTranspose(128,(4,4),strides=(2,2),padding='same'))\n",
    "    model.add(LeakyReLU(alpha=0.2))\n",
    "    \n",
    "    # 16X16\n",
    "    model.add(Conv2DTranspose(128,(4,4),strides=(2,2),padding='same'))\n",
    "    model.add(LeakyReLU(alpha=0.2))\n",
    "    \n",
    "    # 32X32\n",
    "    model.add(Conv2DTranspose(128,(4,4),strides=(2,2),padding='same'))\n",
    "    model.add(LeakyReLU(alpha=0.2))\n",
    "    \n",
    "    #O/P layer\n",
    "    model.add(Conv2D(3,(3,3),activation='tanh',padding='same'))\n",
    "    return model\n",
    "    \n",
    "\n",
    "    \n"
   ]
  },
  {
   "cell_type": "code",
   "execution_count": 23,
   "id": "9852f74a",
   "metadata": {},
   "outputs": [
    {
     "name": "stdout",
     "output_type": "stream",
     "text": [
      "Model: \"sequential_2\"\n",
      "_________________________________________________________________\n",
      " Layer (type)                Output Shape              Param #   \n",
      "=================================================================\n",
      " dense_2 (Dense)             (None, 4096)              413696    \n",
      "                                                                 \n",
      " leaky_re_lu_8 (LeakyReLU)   (None, 4096)              0         \n",
      "                                                                 \n",
      " reshape (Reshape)           (None, 4, 4, 256)         0         \n",
      "                                                                 \n",
      " conv2d_transpose (Conv2DTra  (None, 8, 8, 128)        524416    \n",
      " nspose)                                                         \n",
      "                                                                 \n",
      " leaky_re_lu_9 (LeakyReLU)   (None, 8, 8, 128)         0         \n",
      "                                                                 \n",
      " conv2d_transpose_1 (Conv2DT  (None, 16, 16, 128)      262272    \n",
      " ranspose)                                                       \n",
      "                                                                 \n",
      " leaky_re_lu_10 (LeakyReLU)  (None, 16, 16, 128)       0         \n",
      "                                                                 \n",
      " conv2d_transpose_2 (Conv2DT  (None, 32, 32, 128)      262272    \n",
      " ranspose)                                                       \n",
      "                                                                 \n",
      " leaky_re_lu_11 (LeakyReLU)  (None, 32, 32, 128)       0         \n",
      "                                                                 \n",
      " conv2d_8 (Conv2D)           (None, 32, 32, 3)         3459      \n",
      "                                                                 \n",
      "=================================================================\n",
      "Total params: 1,466,115\n",
      "Trainable params: 1,466,115\n",
      "Non-trainable params: 0\n",
      "_________________________________________________________________\n",
      "You must install pydot (`pip install pydot`) and install graphviz (see instructions at https://graphviz.gitlab.io/download/) for plot_model to work.\n"
     ]
    }
   ],
   "source": [
    "latent_dim=100\n",
    "model=define_generator(latent_dim)\n",
    "model.summary()\n",
    "plot_model(model,to_file='n.png',show_shapes=True,show_layer_names=True)"
   ]
  },
  {
   "cell_type": "code",
   "execution_count": 24,
   "id": "067c2ff4",
   "metadata": {},
   "outputs": [],
   "source": [
    "def generate_latent_points(latent_dim,n_samples):\n",
    "    x_input=np.random.randn(latent_dim*n_samples)\n",
    "    x_input=x_input.reshape(n_samples,latent_dim)\n",
    "    return x_input"
   ]
  },
  {
   "cell_type": "code",
   "execution_count": 26,
   "id": "76f222fe",
   "metadata": {},
   "outputs": [
    {
     "name": "stdout",
     "output_type": "stream",
     "text": [
      "(64, 100)\n"
     ]
    }
   ],
   "source": [
    "x_input = generate_latent_points(100,64)\n",
    "print(x_input.shape)"
   ]
  },
  {
   "cell_type": "code",
   "execution_count": 27,
   "id": "3c5b60d5",
   "metadata": {},
   "outputs": [],
   "source": [
    "def generate_fake_samples(g_model,latent_dim,n_samples):\n",
    "    x_input=generate_latent_points(latent_dim,n_samples)\n",
    "    X=g_model.predict(x_input)\n",
    "    y=np.zeros((n_samples,1))\n",
    "    return X,y"
   ]
  },
  {
   "cell_type": "code",
   "execution_count": 29,
   "id": "2204d628",
   "metadata": {},
   "outputs": [
    {
     "name": "stdout",
     "output_type": "stream",
     "text": [
      "2/2 [==============================] - 0s 72ms/step\n"
     ]
    },
    {
     "data": {
      "image/png": "[encoded data removed]",
      "text/plain": [
       "<Figure size 432x288 with 49 Axes>"
      ]
     },
     "metadata": {
      "needs_background": "light"
     },
     "output_type": "display_data"
    }
   ],
   "source": [
    "latent_dim=100\n",
    "model=define_generator(latent_dim)\n",
    "n_samples=49\n",
    "X,_=generate_fake_samples(model,latent_dim,n_samples)\n",
    "X=(X+1)/2.0\n",
    "for i in range(n_samples):\n",
    "    plt.subplot(7,7,1+i)\n",
    "    plt.axis('off')\n",
    "    plt.imshow(X[i])\n",
    "    "
   ]
  },
  {
   "cell_type": "code",
   "execution_count": 30,
   "id": "3dca722b",
   "metadata": {},
   "outputs": [],
   "source": [
    "def define_gan(g_model,d_model):\n",
    "    d_model.trainable=False\n",
    "    model=Sequential()\n",
    "    \n",
    "    model.add(g_model)\n",
    "    model.add(d_model)\n",
    "    opt=Adam(lr=0.0002,beta_1=0.5)\n",
    "    model.compile(loss='binary_crossentropy',optimizer=opt)\n",
    "    return model\n",
    "\n",
    "    "
   ]
  },
  {
   "cell_type": "code",
   "execution_count": 31,
   "id": "16df6ab3",
   "metadata": {},
   "outputs": [
    {
     "name": "stderr",
     "output_type": "stream",
     "text": [
      "C:\\Users\\mrhim\\anaconda3\\lib\\site-packages\\keras\\optimizers\\optimizer_v2\\adam.py:114: UserWarning: The `lr` argument is deprecated, use `learning_rate` instead.\n",
      "  super().__init__(name, **kwargs)\n"
     ]
    },
    {
     "name": "stdout",
     "output_type": "stream",
     "text": [
      "Model: \"sequential_7\"\n",
      "_________________________________________________________________\n",
      " Layer (type)                Output Shape              Param #   \n",
      "=================================================================\n",
      " sequential_6 (Sequential)   (None, 32, 32, 3)         1466115   \n",
      "                                                                 \n",
      " sequential_5 (Sequential)   (None, 1)                 522497    \n",
      "                                                                 \n",
      "=================================================================\n",
      "Total params: 1,988,612\n",
      "Trainable params: 1,466,115\n",
      "Non-trainable params: 522,497\n",
      "_________________________________________________________________\n"
     ]
    }
   ],
   "source": [
    "latent_dim=100\n",
    "d_model=define_discriminator()\n",
    "g_model=define_generator(latent_dim)\n",
    "\n",
    "gan_model=define_gan(g_model,d_model)\n",
    "gan_model.summary()"
   ]
  },
  {
   "cell_type": "code",
   "execution_count": null,
   "id": "3cd43259",
   "metadata": {},
   "outputs": [],
   "source": [
    "def train(g_model,d_model,gan_model,latent_dim,n_epochs=200,n_batch=128):\n",
    "    bat_per_epo= int(dataset.shape[0]/n_batch)\n",
    "    half_batch=int(n_batch/2)\n",
    "    for i in range(n_epochs):\n",
    "        for j in range(bat_per_epo):\n",
    "            X_real,y_real=generate_real_sample(dataset,half_batch)\n",
    "            \n",
    "            d_loss1,_=d_model.train_on_batch(X_real,y_real)\n",
    "            \n",
    "            X_fake,y_fake=generate_fake_samples(g_model,latent_dim,half_batch)\n",
    "            d_loss2,_=d_model.train_on_batch(X_fake,y_fake)\n",
    "            \n",
    "            X_gan=generate_latent_points(latent_dim,n_batch)\n",
    "            y_gan=np.ones((n_batch,1))\n",
    "            \n",
    "            g_loss=gan_model.train_on_batch(X_gan,y_gan)\n",
    "            print('>',i+1,' ',j+1,' ',bat_per_epo,' ',d_loss1,' ',d_loss2,' ',g_loss)\n",
    "            \n",
    "            if(i+1)%10==0:\n",
    "                summarize_performance(i,g_model,d_model,dataset,latent_dim)\n",
    "    \n",
    "            "
   ]
  },
  {
   "cell_type": "code",
   "execution_count": null,
   "id": "bf86a4ce",
   "metadata": {},
   "outputs": [],
   "source": []
  },
  {
   "cell_type": "code",
   "execution_count": null,
   "id": "0889c479",
   "metadata": {},
   "outputs": [],
   "source": []
  },
  {
   "cell_type": "code",
   "execution_count": null,
   "id": "ecd71e43",
   "metadata": {},
   "outputs": [],
   "source": []
  },
  {
   "cell_type": "code",
   "execution_count": null,
   "id": "b0b9cbea",
   "metadata": {},
   "outputs": [],
   "source": []
  },
  {
   "cell_type": "code",
   "execution_count": null,
   "id": "bdc9c231",
   "metadata": {},
   "outputs": [],
   "source": []
  }
 ],
 "metadata": {
  "kernelspec": {
   "display_name": "Python 3 (ipykernel)",
   "language": "python",
   "name": "python3"
  },
  "language_info": {
   "codemirror_mode": {
    "name": "ipython",
    "version": 3
   },
   "file_extension": ".py",
   "mimetype": "text/x-python",
   "name": "python",
   "nbconvert_exporter": "python",
   "pygments_lexer": "ipython3",
   "version": "3.9.12"
  }
 },
 "nbformat": 4,
 "nbformat_minor": 5
}
